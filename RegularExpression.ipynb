import re

email_pattern = r'\b[A-Za-z0-9._%+-]+@[A-Za-z0-9.-]+\.[A-Za-z]{2,}\b'

text = 'My email is john.doe@example.com. Please contact me at that address.'

match = re.search(email_pattern, text)
if match:
    email = match.group()
    print(email)
