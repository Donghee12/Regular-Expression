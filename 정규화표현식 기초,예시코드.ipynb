{
 "cells": [
  {
   "cell_type": "markdown",
   "id": "a7b9d011-c63b-4b34-911f-139ee8d8dbde",
   "metadata": {},
   "source": [
    "파이썬에서 정규 표현식을 사용하기 위해 re 모듈을 import해야 합니다. 정규 표현식을 작성할 때는 일부 특수 문자와 메타 문자를 사용하여 패턴을 표현합니다. 다음은 파이썬에서 정규 표현식을 작성하는 데 필요한 몇 가지 기초적인 개념입니다."
   ]
  },
  {
   "cell_type": "markdown",
   "id": "9431ce1f-2c49-4812-b6f3-feafed9c2569",
   "metadata": {},
   "source": [
    "Raw String\n",
    "정규 표현식을 작성할 때, 문자열 앞에 r을 붙여 raw string으로 만들면 백슬래시()를 이스케이프 문자로 인식하지 않고 그대로 처리합니다. 정규 표현식에서 백슬래시는 많이 사용되므로 raw string으로 작성하는 것이 일반적입니다."
   ]
  },
  {
   "cell_type": "code",
   "execution_count": null,
   "id": "28d5261d-335b-4e08-a7f6-32015d46d213",
   "metadata": {},
   "outputs": [],
   "source": [
    "pattern = r'\\d+'  # raw string으로 정규 표현식 패턴 작성"
   ]
  },
  {
   "cell_type": "markdown",
   "id": "ec7da0d5-2f63-4e2f-a1c3-f141f6b1b49d",
   "metadata": {},
   "source": [
    "메타 문자\n",
    "정규 표현식에서 특별한 의미를 가지는 문자를 메타 문자라고 합니다. 일부 일반적인 메타 문자는 다음과 같습니다:\n",
    ". (마침표): 어떤 한 개의 문자와 일치합니다. 다만, 개행 문자(\\n)는 제외됩니다.\n",
    "^ (시작): 주어진 패턴이 문자열의 시작과 일치하는지 확인합니다.\n",
    "$ (끝): 주어진 패턴이 문자열의 끝과 일치하는지 확인합니다.\n",
    "* (별표): 앞의 패턴이 0번 이상 반복되는 부분과 일치합니다.\n",
    "+ (더하기): 앞의 패턴이 1번 이상 반복되는 부분과 일치합니다.\n",
    "? (물음표): 앞의 패턴이 0번 또는 1번만 반복되는 부분과 일치합니다.\n",
    "[] (대괄호): 대괄호 안의 어떤 한 문자와 일치합니다. 예를 들어, [aeiou]는 소문자 모음과 일치합니다.\n",
    "() (괄호): 그룹을 지정하고 해당 부분과 일치하는 문자열을 추출할 수 있습니다."
   ]
  },
  {
   "cell_type": "markdown",
   "id": "745d475a-7a02-4089-9f89-dd55ed84bc80",
   "metadata": {
    "tags": []
   },
   "source": [
    "반복자\n",
    "패턴의 반복을 지정하는 데 사용되는 반복자는 다음과 같습니다:\n",
    "* : 0번 이상의 반복을 의미합니다.\n",
    "+ : 1번 이상의 반복을 의미합니다.\n",
    "? : 0번 또는 1번의 반복을 의미합니다.\n",
    "{n} : 정확히 n번의 반복을 의미합니다.\n",
    "{n,} : n번 이상의 반복을 의미합니다.\n",
    "{n,m} : 최소 n번에서 최대 m번까지의 반복을 의미합니다."
   ]
  },
  {
   "cell_type": "markdown",
   "id": "a73649b3-49c1-4cbf-8f86-2644ec492cf1",
   "metadata": {},
   "source": [
    "특수 문자 이스케이프\n",
    "정규 표현식에서 메타 문자로 사용되는 문자를 검색하기 위해 이스케이프 문자인 백슬래시()를 사용할 수 있습니다."
   ]
  },
  {
   "cell_type": "code",
   "execution_count": 2,
   "id": "474eb205-76c4-4a8b-a37f-0cd7f731fb46",
   "metadata": {},
   "outputs": [],
   "source": [
    "pattern = r'\\.'  # 마침표 문자 자체를 찾기 위해 이스케이프 문자 사용"
   ]
  },
  {
   "cell_type": "markdown",
   "id": "f8a486b0-fc04-427d-a461-bf1d00a647c5",
   "metadata": {},
   "source": [
    "위의 내용은 정규 표현식의 기초적인 개념들을 다루고 있습니다. 정규 표현식은 이외에도 다양한 기능과 규칙을 제공하므로, 더 복잡한 패턴을 작성하고 활용하는 방법을 학습할 수 있습니다."
   ]
  },
  {
   "cell_type": "markdown",
   "id": "00b9e462-4fae-41ed-a639-1b20e2319c28",
   "metadata": {},
   "source": [
    "파이썬의 re 모듈은 정규 표현식을 작성하고 문자열에 적용하기 위한 다양한 함수를 제공합니다. 주요 함수에 대한 설명은 다음과 같습니다:"
   ]
  },
  {
   "cell_type": "markdown",
   "id": "4294970c-57fc-4fc7-b539-69da3bcd1280",
   "metadata": {},
   "source": [
    "re.search(pattern, string)\n",
    "문자열에서 정규 표현식 패턴에 첫 번째로 매치되는 부분을 찾습니다.\n",
    "매치된 객체(Match object)를 반환하며, group() 메서드를 통해 매치된 부분 문자열을 얻을 수 있습니다.\n",
    "패턴이 발견되지 않으면 None을 반환합니다."
   ]
  },
  {
   "cell_type": "markdown",
   "id": "72865ec2-6c6a-4299-903d-27b9060d1f72",
   "metadata": {},
   "source": [
    "re.match(pattern, string)\n",
    "문자열의 시작에서 정규 표현식 패턴과 매치되는지 확인합니다.\n",
    "search()와 달리 문자열의 시작부터 매치를 검사합니다.\n",
    "매치된 객체(Match object)를 반환하며, group() 메서드를 통해 매치된 부분 문자열을 얻을 수 있습니다.\n",
    "패턴이 발견되지 않으면 None을 반환합니다."
   ]
  },
  {
   "cell_type": "markdown",
   "id": "f7d3a4d7-d61f-464d-9a69-116aaa8a599a",
   "metadata": {},
   "source": [
    "re.findall(pattern, string)\n",
    "문자열에서 정규 표현식 패턴과 매치되는 모든 부분을 찾아 리스트로 반환합니다.\n",
    "각 매치는 문자열의 일부가 됩니다."
   ]
  },
  {
   "cell_type": "markdown",
   "id": "53c78db3-ad84-4bc7-af06-8c104575b31f",
   "metadata": {},
   "source": [
    "re.sub(pattern, repl, string)\n",
    "문자열에서 정규 표현식 패턴과 일치하는 부분을 다른 문자열로 치환합니다.\n",
    "repl 인자는 치환될 문자열이 됩니다.\n",
    "치환된 결과를 반환합니다."
   ]
  },
  {
   "cell_type": "markdown",
   "id": "9099530d-ee58-4e54-b231-1948fa7c01eb",
   "metadata": {},
   "source": [
    "아래는 각 함수를 사용하는 예제입니다:"
   ]
  },
  {
   "cell_type": "code",
   "execution_count": 3,
   "id": "82909ea4-df07-4f18-996a-17fdd9ba606e",
   "metadata": {},
   "outputs": [],
   "source": [
    "import re\n",
    "\n",
    "text = \"Hello, World!\""
   ]
  },
  {
   "cell_type": "code",
   "execution_count": 4,
   "id": "0cba65b5-7a56-4bb9-811b-9ca3ff9496bc",
   "metadata": {},
   "outputs": [
    {
     "name": "stdout",
     "output_type": "stream",
     "text": [
      "Match found: World\n"
     ]
    }
   ],
   "source": [
    "# search()\n",
    "match = re.search(r\"World\", text)\n",
    "if match:\n",
    "    print(\"Match found:\", match.group())\n",
    "else:\n",
    "    print(\"No match\")"
   ]
  },
  {
   "cell_type": "code",
   "execution_count": 5,
   "id": "6018dacf-b9c5-47dc-8927-1fffee94565c",
   "metadata": {},
   "outputs": [
    {
     "name": "stdout",
     "output_type": "stream",
     "text": [
      "Match found: Hello\n"
     ]
    }
   ],
   "source": [
    "# match()\n",
    "match = re.match(r\"Hello\", text)\n",
    "if match:\n",
    "    print(\"Match found:\", match.group())\n",
    "else:\n",
    "    print(\"No match\")"
   ]
  },
  {
   "cell_type": "code",
   "execution_count": 6,
   "id": "d81ce7aa-04e5-4107-b243-c1439820643e",
   "metadata": {},
   "outputs": [
    {
     "name": "stdout",
     "output_type": "stream",
     "text": [
      "Matches found: ['l', 'l', 'l']\n"
     ]
    }
   ],
   "source": [
    "# findall()\n",
    "matches = re.findall(r\"l\", text)\n",
    "print(\"Matches found:\", matches)"
   ]
  },
  {
   "cell_type": "code",
   "execution_count": 7,
   "id": "c94cb0e6-ef8f-4082-8cbe-10d7687d36c1",
   "metadata": {},
   "outputs": [
    {
     "name": "stdout",
     "output_type": "stream",
     "text": [
      "Modified text: Hello, Python!\n"
     ]
    }
   ],
   "source": [
    "# sub()\n",
    "new_text = re.sub(r\"World\", \"Python\", text)\n",
    "print(\"Modified text:\", new_text)"
   ]
  },
  {
   "cell_type": "markdown",
   "id": "0a162e8c-8449-4644-917b-94a082bed21d",
   "metadata": {},
   "source": [
    "다음은 위의 함수들을 사용하는 예시들입니다."
   ]
  },
  {
   "cell_type": "code",
   "execution_count": 8,
   "id": "772bd63e-369f-48ee-a497-187098289ea0",
   "metadata": {},
   "outputs": [
    {
     "name": "stdout",
     "output_type": "stream",
     "text": [
      "Email addresses: ['john.doe@example.com']\n"
     ]
    }
   ],
   "source": [
    "import re\n",
    "\n",
    "text = \"My email is john.doe@example.com. Please contact me at that address.\"\n",
    "\n",
    "email_pattern = r'\\b[A-Za-z0-9._%+-]+@[A-Za-z0-9.-]+\\.[A-Za-z]{2,}\\b'\n",
    "\n",
    "matches = re.findall(email_pattern, text)\n",
    "print(\"Email addresses:\", matches)"
   ]
  },
  {
   "cell_type": "markdown",
   "id": "e3cd6781-28ab-4777-903a-2a5b149f325b",
   "metadata": {},
   "source": [
    "위의 예시에서는 주어진 텍스트에서 이메일 주소를 찾기 위해 정규 표현식을 사용합니다. findall() 함수를 사용하여 모든 매치된 이메일 주소를 추출하여 출력합니다."
   ]
  },
  {
   "cell_type": "code",
   "execution_count": 9,
   "id": "8d74bb78-c570-40fa-9c27-843c68808f63",
   "metadata": {},
   "outputs": [
    {
     "name": "stdout",
     "output_type": "stream",
     "text": [
      "Cleaned phone numbers: ['***-***-****', '(123) 456-7890', '***-***-****', '***-***-****', '***-***-****']\n"
     ]
    }
   ],
   "source": [
    "import re\n",
    "\n",
    "phone_numbers = [\n",
    "    \"123-456-7890\",\n",
    "    \"(123) 456-7890\",\n",
    "    \"123 456 7890\",\n",
    "    \"123.456.7890\",\n",
    "    \"1234567890\"\n",
    "]\n",
    "\n",
    "cleaned_numbers = []\n",
    "phone_pattern = r\"\\d{3}[-.\\s]?\\d{3}[-.\\s]?\\d{4}\"\n",
    "\n",
    "for number in phone_numbers:\n",
    "    cleaned_number = re.sub(phone_pattern, \"***-***-****\", number)\n",
    "    cleaned_numbers.append(cleaned_number)\n",
    "\n",
    "print(\"Cleaned phone numbers:\", cleaned_numbers)\n"
   ]
  },
  {
   "cell_type": "markdown",
   "id": "26daf526-d666-445c-b20e-2d1070ed5eaf",
   "metadata": {},
   "source": [
    "위의 예시에서는 다양한 전화번호 형식을 하나의 통일된 형식으로 변환하기 위해 정규 표현식을 사용합니다. sub() 함수를 사용하여 매치된 전화번호 부분을 \"--****\"로 치환하여 통일된 형식의 전화번호를 얻습니다."
   ]
  },
  {
   "cell_type": "code",
   "execution_count": 11,
   "id": "d55d248f-5f14-4f19-af06-f7586f554b4c",
   "metadata": {},
   "outputs": [
    {
     "name": "stdout",
     "output_type": "stream",
     "text": [
      "URLs: ['https://www.example.com']\n"
     ]
    }
   ],
   "source": [
    "import re\n",
    "\n",
    "text = \"Visit my website at https://www.example.com for more information.\"\n",
    "\n",
    "url_pattern = r'https?://(?:[-\\w.]|(?:%[\\da-fA-F]{2}))+'\n",
    "\n",
    "matches = re.findall(url_pattern, text)\n",
    "print(\"URLs:\", matches)\n"
   ]
  },
  {
   "cell_type": "markdown",
   "id": "59522a13-dc08-4c37-9a2d-405a44b61e40",
   "metadata": {},
   "source": [
    "위의 예시에서는 텍스트에서 URL을 추출하기 위해 정규 표현식을 사용합니다. findall() 함수를 사용하여 모든 매치된 URL을 추출하여 출력합니다."
   ]
  },
  {
   "cell_type": "markdown",
   "id": "31c3c292-e044-4551-91f6-5d962abbf7d7",
   "metadata": {},
   "source": [
    "이외에도 정규 표현식은 데이터 유효성 검사, 텍스트 분석, 로그 분석 등 다양한 분야에서 활용될 수 있습니다. 정규 표현식은 패턴에 따라 유연하게 적용할 수 있어 많은 활용 가능성을 가지고 있습니다."
   ]
  },
  {
 "metadata": {
  "kernelspec": {
   "display_name": "anaconda-2022.05-py39",
   "language": "python",
   "name": "conda-env-anaconda-2022.05-py39-py"
  },
  "language_info": {
   "codemirror_mode": {
    "name": "ipython",
    "version": 3
   },
   "file_extension": ".py",
   "mimetype": "text/x-python",
   "name": "python",
   "nbconvert_exporter": "python",
   "pygments_lexer": "ipython3",
   "version": "3.9.12"
  }
 },
 "nbformat": 4,
 "nbformat_minor": 5
}
